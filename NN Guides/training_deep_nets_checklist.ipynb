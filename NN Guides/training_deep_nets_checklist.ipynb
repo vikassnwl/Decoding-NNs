{
 "cells": [
  {
   "cell_type": "markdown",
   "metadata": {},
   "source": [
    "### A checklist of training deep nets\n",
    "All about signal propagation (techniques used to ensure that the information (or signal) flows effectively through the layers of a deep neural network during forward and backward passes)\n",
    "- ReLU (or similar)\n",
    "- initialization\n",
    "- normalization\n",
    "- residual connection"
   ]
  },
  {
   "cell_type": "markdown",
   "metadata": {},
   "source": []
  },
  {
   "cell_type": "markdown",
   "metadata": {},
   "source": []
  }
 ],
 "metadata": {
  "language_info": {
   "name": "python"
  }
 },
 "nbformat": 4,
 "nbformat_minor": 2
}
