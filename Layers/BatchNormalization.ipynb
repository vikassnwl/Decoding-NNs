{
 "cells": [
  {
   "cell_type": "markdown",
   "metadata": {},
   "source": [
    "## Batch Normalization"
   ]
  },
  {
   "cell_type": "markdown",
   "metadata": {},
   "source": [
    "Batch normalization is a technique in neural networks to improve training speed and stability. It normalizes the inputs to a layer within a mini-batch, ensuring that they have a mean of 0 and a standard deviation of 1. After normalization, the technique introduces two learnable parameters, a scaling factor ($ \\gamma $) and a shift factor ($ \\beta $), to allow the network to learn the optimal scale and offset for each feature.\n",
    "\n",
    "### Benefits:\n",
    "1. **Improved Training Speed**: It allows higher learning rates by reducing the risk of exploding or vanishing gradients.\n",
    "2. **Regularization Effect**: It adds slight noise to the training process due to mini-batch calculations, which can reduce overfitting.\n",
    "3. **Reduced Sensitivity to Initialization**: It alleviates the need for careful weight initialization.\n",
    "\n",
    "### Formula:\n",
    "For a mini-batch $ x = \\{x_1, x_2, \\dots, x_m\\} $:\n",
    "1. Compute batch mean: $ \\mu = \\frac{1}{m} \\sum_{i=1}^m x_i $\n",
    "2. Compute batch variance: $ \\sigma^2 = \\frac{1}{m} \\sum_{i=1}^m (x_i - \\mu)^2 $\n",
    "3. Normalize: $ \\hat{x}_i = \\frac{x_i - \\mu}{\\sqrt{\\sigma^2 + \\epsilon}} $\n",
    "4. Scale and shift: $ y_i = \\gamma \\hat{x}_i + \\beta $\n",
    "\n",
    "Here, $ \\epsilon $ is a small constant to avoid division by zero."
   ]
  },
  {
   "cell_type": "markdown",
   "metadata": {},
   "source": [
    "---"
   ]
  },
  {
   "cell_type": "markdown",
   "metadata": {},
   "source": [
    "## Why batch_normalization has 128 parameters?\n",
    "```\n",
    "┃ Layer (type)                    ┃ Output Shape           ┃       Param # ┃\n",
    "┡━━━━━━━━━━━━━━━━━━━━━━━━━━━━━━━━━╇━━━━━━━━━━━━━━━━━━━━━━━━╇━━━━━━━━━━━━━━━┩\n",
    "│ conv2d (Conv2D)                 │ (None, 32, 32, 32)     │           896 │\n",
    "├─────────────────────────────────┼────────────────────────┼───────────────┤\n",
    "│ batch_normalization             │ (None, 32, 32, 32)     │           128 │\n",
    "```"
   ]
  },
  {
   "cell_type": "markdown",
   "metadata": {},
   "source": [
    "The 128 parameters in the `batch_normalization` layer represent the learnable parameters of the layer: **scale ($ \\gamma $)** and **shift ($ \\beta $)**. These parameters allow the model to adjust the normalized values during training.\n",
    "\n",
    "### Explanation:\n",
    "1. **Input Shape to Batch Normalization**: `(None, 32, 32, 32)`\n",
    "   - The last dimension, `32`, represents the number of channels (or filters) from the preceding `Conv2D` layer.\n",
    "\n",
    "2. **Learnable Parameters**:\n",
    "   - For each channel, batch normalization learns:\n",
    "     - $ \\gamma $ (scale parameter): 32 parameters\n",
    "     - $ \\beta $ (shift parameter): 32 parameters\n",
    "   - Total learnable parameters = \\( 32 + 32 = 64 \\).\n",
    "\n",
    "3. **Non-learnable Parameters**:\n",
    "   - Batch normalization also maintains two moving statistics for each channel:\n",
    "     - **Moving mean**: 32 values\n",
    "     - **Moving variance**: 32 values\n",
    "   - These are not updated by backpropagation but are used during inference.\n",
    "   - Total non-learnable parameters = \\( 32 + 32 = 64 \\).\n",
    "\n",
    "### Total Parameters:\n",
    "- Learnable parameters: \\( 64 \\)\n",
    "- Non-learnable parameters: \\( 64 \\)\n",
    "- **Total parameters: \\( 64 + 64 = 128 \\)**"
   ]
  },
  {
   "cell_type": "markdown",
   "metadata": {},
   "source": [
    "---"
   ]
  },
  {
   "cell_type": "markdown",
   "metadata": {},
   "source": [
    "## Can you elaborate on moving mean and variance?\n",
    "The **moving mean** and **moving variance** in batch normalization are non-learnable parameters used to keep track of the mean and variance of the activations during training. They play a critical role during **inference (testing)** when batch statistics are no longer computed dynamically.\n",
    "\n",
    "### What are moving mean and moving variance?\n",
    "1. **Moving Mean ($ \\mu_{\\text{moving}} $)**:\n",
    "   - It is an estimate of the mean of the layer's activations across the entire dataset, computed and updated during training.\n",
    "   - During **training**, for each mini-batch, the mean of the activations ($ \\mu_{\\text{batch}} $) is calculated. This batch mean is then used to update the moving mean:\n",
    "     $$\n",
    "     \\mu_{\\text{moving}} = (1 - \\text{momentum}) \\cdot \\mu_{\\text{batch}} + \\text{momentum} \\cdot \\mu_{\\text{moving}}\n",
    "     $$\n",
    "   - The `momentum` parameter (default ~0.99 or 0.9) controls how much of the previous moving mean is retained.\n",
    "\n",
    "2. **Moving Variance ($ \\sigma_{\\text{moving}}^2 $)**:\n",
    "   - Similar to the moving mean, this tracks the variance of the activations across the dataset.\n",
    "   - It is updated using the batch variance ($ \\sigma_{\\text{batch}}^2 $) computed for each mini-batch:\n",
    "     $$\n",
    "     \\sigma_{\\text{moving}}^2 = (1 - \\text{momentum}) \\cdot \\sigma_{\\text{batch}}^2 + \\text{momentum} \\cdot \\sigma_{\\text{moving}}^2\n",
    "     $$\n",
    "\n",
    "### Purpose:\n",
    "- During **training**, the mini-batch mean and variance are used to normalize the activations.\n",
    "- During **inference**, the moving mean and moving variance are used instead, since the test data may not be passed in mini-batches, and computing statistics dynamically is infeasible.\n",
    "\n",
    "### Key Points:\n",
    "- The moving mean and variance are **not updated by backpropagation**; they are updated directly during forward passes in training.\n",
    "- They do not count as learnable parameters since the model does not optimize them during training.\n",
    "\n",
    "### Practical Example:\n",
    "- Suppose during training, in the first few mini-batches, the mean and variance of a channel's activations are as follows:\n",
    "  - Batch 1: $ \\mu_{\\text{batch}} = 0.5 $, $ \\sigma_{\\text{batch}}^2 = 0.25 $\n",
    "  - Batch 2: $ \\mu_{\\text{batch}} = 0.6 $, $ \\sigma_{\\text{batch}}^2 = 0.2 $\n",
    "  - With a momentum of 0.9, the moving estimates are updated as:\n",
    "    $$\n",
    "    \\mu_{\\text{moving}} = 0.9 \\cdot \\mu_{\\text{moving (prev)}} + 0.1 \\cdot \\mu_{\\text{batch}}\n",
    "    $$\n",
    "    $$\n",
    "    \\sigma_{\\text{moving}}^2 = 0.9 \\cdot \\sigma_{\\text{moving (prev)}}^2 + 0.1 \\cdot \\sigma_{\\text{batch}}^2\n",
    "    $$\n",
    "\n",
    "By the end of training, the moving mean and variance provide a stable estimate of the activation statistics for inference."
   ]
  },
  {
   "cell_type": "markdown",
   "metadata": {},
   "source": [
    "---"
   ]
  },
  {
   "cell_type": "markdown",
   "metadata": {},
   "source": [
    "## Batch Normalization in Action"
   ]
  },
  {
   "cell_type": "code",
   "execution_count": 116,
   "metadata": {},
   "outputs": [],
   "source": [
    "import numpy as np\n",
    "import tensorflow as tf\n",
    "import matplotlib.pyplot as plt\n",
    "import cv2\n",
    "from matplotlib.patches import Rectangle"
   ]
  },
  {
   "cell_type": "markdown",
   "metadata": {},
   "source": [
    "### Creating dummy images for demo"
   ]
  },
  {
   "cell_type": "code",
   "execution_count": 213,
   "metadata": {},
   "outputs": [
    {
     "data": {
      "image/png": "[encoded data removed]",
      "text/plain": [
       "<Figure size 640x480 with 4 Axes>"
      ]
     },
     "metadata": {},
     "output_type": "display_data"
    }
   ],
   "source": [
    "np.random.seed(42)\n",
    "batch_1 = np.random.randint(0, 255, (2, 2, 2, 1))  # batch 1 having 2 images\n",
    "batch_2 = np.random.randint(0, 255, (2, 2, 2, 1))  # batch 2 having 2 images\n",
    "batches = [batch_1, batch_2]\n",
    "fig, axes = plt.subplots(2, 2)\n",
    "for i, batch in enumerate(batches):\n",
    "    for j, image in enumerate(batch):\n",
    "        ax = axes[i][j]\n",
    "        ax.imshow(image, cmap=\"gray\", vmin=0, vmax=255)\n",
    "        ax.set_title(f\"batch {i+1} image {j+1}\")\n",
    "        ax.axis(\"off\")"
   ]
  },
  {
   "cell_type": "markdown",
   "metadata": {},
   "source": [
    "## Calculation of moving mean and moving variance"
   ]
  },
  {
   "cell_type": "code",
   "execution_count": 228,
   "metadata": {},
   "outputs": [
    {
     "name": "stdout",
     "output_type": "stream",
     "text": [
      "gamma=[1.0]\n",
      "beta=[0.0]\n",
      "mean=[0.9649999737739563]\n",
      "var=[36.775001525878906]\n",
      "\n",
      "gamma=[1.0]\n",
      "beta=[0.0]\n",
      "mean=[2.3628499507904053]\n",
      "var=[66.109130859375]\n",
      "\n"
     ]
    }
   ],
   "source": [
    "bn_layer = tf.keras.layers.BatchNormalization()\n",
    "bn_layer.build(input_shape=(None, 2, 2, 1))\n",
    "for batch in batches:\n",
    "    bn_layer(batch, training=True)\n",
    "    gamma, beta, mean, var = bn_layer.get_weights()\n",
    "    print(f\"gamma={gamma.tolist()}\\nbeta={beta.tolist()}\\nmean={mean.tolist()}\\nvar={var.tolist()}\\n\")"
   ]
  },
  {
   "cell_type": "markdown",
   "metadata": {},
   "source": [
    "**Internal working**"
   ]
  },
  {
   "cell_type": "code",
   "execution_count": 229,
   "metadata": {},
   "outputs": [],
   "source": [
    "def calc_running_mean(inpt, running_mean_till_now, momentum=0.99):\n",
    "    batch_mean = np.mean(inpt)\n",
    "    running_mean = momentum * running_mean_till_now + (1 - momentum) * batch_mean\n",
    "    return running_mean\n",
    "\n",
    "def calc_running_var(inpt, running_var_till_now, momentum=0.99):\n",
    "    batch_var = np.var(inpt)\n",
    "    running_var = momentum * running_var_till_now + (1 - momentum) * batch_var\n",
    "    return running_var"
   ]
  },
  {
   "cell_type": "code",
   "execution_count": 232,
   "metadata": {},
   "outputs": [
    {
     "name": "stdout",
     "output_type": "stream",
     "text": [
      "running_mean_till_now=0.9650000000000009\n",
      "running_var_till_now=36.775000000000034\n",
      "\n",
      "running_mean_till_now=2.362850000000002\n",
      "running_var_till_now=66.10912500000006\n",
      "\n"
     ]
    }
   ],
   "source": [
    "running_mean_till_now = 0\n",
    "running_var_till_now = 1\n",
    "for batch in batches:\n",
    "    running_mean_till_now = calc_running_mean(batch, running_mean_till_now)\n",
    "    running_var_till_now = calc_running_var(batch, running_var_till_now)\n",
    "    print(f\"{running_mean_till_now=}\\n{running_var_till_now=}\\n\")"
   ]
  },
  {
   "cell_type": "markdown",
   "metadata": {},
   "source": [
    "## Normalization of inputs to the BatchNormalization Layer"
   ]
  },
  {
   "cell_type": "code",
   "execution_count": 269,
   "metadata": {},
   "outputs": [
    {
     "data": {
      "text/plain": [
       "<tf.Tensor: shape=(2, 2, 2, 1), dtype=float32, numpy=\n",
       "array([[[[ 0.0919416 ],\n",
       "         [ 1.3791243 ]],\n",
       "\n",
       "        [[-0.07522488],\n",
       "         [-1.3791242 ]]],\n",
       "\n",
       "\n",
       "       [[[ 0.15880823],\n",
       "         [-0.42627478]],\n",
       "\n",
       "        [[ 1.5295743 ],\n",
       "         [-1.2788242 ]]]], dtype=float32)>"
      ]
     },
     "execution_count": 269,
     "metadata": {},
     "output_type": "execute_result"
    }
   ],
   "source": [
    "bn_layer = tf.keras.layers.BatchNormalization()\n",
    "bn_layer.build(input_shape=(None, 2, 2, 1))\n",
    "batch_mod = bn_layer(batches[0], training=True)  # modifier batch after normalization, scale and shift\n",
    "batch_mod"
   ]
  },
  {
   "cell_type": "markdown",
   "metadata": {},
   "source": [
    "**Internal working**"
   ]
  },
  {
   "cell_type": "code",
   "execution_count": 271,
   "metadata": {},
   "outputs": [
    {
     "data": {
      "text/plain": [
       "array([[[[ 0.09194163],\n",
       "         [ 1.37912439]],\n",
       "\n",
       "        [[-0.07522497],\n",
       "         [-1.37912439]]],\n",
       "\n",
       "\n",
       "       [[[ 0.15880826],\n",
       "         [-0.42627481]],\n",
       "\n",
       "        [[ 1.52957432],\n",
       "         [-1.27882443]]]])"
      ]
     },
     "execution_count": 271,
     "metadata": {},
     "output_type": "execute_result"
    }
   ],
   "source": [
    "init_gamma = 1\n",
    "init_beta = 0\n",
    "batch_norm = (batches[0]-batches[0].mean())/np.std(batches[0])\n",
    "batch_mod = batch_norm * init_gamma + init_beta\n",
    "batch_norm"
   ]
  },
  {
   "cell_type": "markdown",
   "metadata": {},
   "source": [
    "![](../assets/images/batch_norm.jpg)"
   ]
  },
  {
   "cell_type": "markdown",
   "metadata": {},
   "source": []
  }
 ],
 "metadata": {
  "kernelspec": {
   "display_name": "env",
   "language": "python",
   "name": "python3"
  },
  "language_info": {
   "codemirror_mode": {
    "name": "ipython",
    "version": 3
   },
   "file_extension": ".py",
   "mimetype": "text/x-python",
   "name": "python",
   "nbconvert_exporter": "python",
   "pygments_lexer": "ipython3",
   "version": "3.12.5"
  }
 },
 "nbformat": 4,
 "nbformat_minor": 2
}
